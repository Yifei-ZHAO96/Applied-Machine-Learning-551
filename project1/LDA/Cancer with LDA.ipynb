{
 "cells": [
  {
   "cell_type": "code",
   "execution_count": 1,
   "metadata": {},
   "outputs": [
    {
     "name": "stdout",
     "output_type": "stream",
     "text": [
      "\n",
      "\n",
      "valid i= 0 (438, 9)\n",
      "valid i= 0 (438,)\n",
      "valid i= 1 (438, 9)\n",
      "valid i= 1 (438,)\n",
      "valid i= 2 (437, 9)\n",
      "valid i= 2 (437,)\n",
      "valid i= 3 (438, 9)\n",
      "valid i= 3 (438,)\n",
      "valid i= 4 (437, 9)\n",
      "valid i= 4 (437,)\n"
     ]
    }
   ],
   "source": [
    "import csv                       #use library csv to open and read csv data\n",
    "import numpy as np \n",
    "import math\n",
    "import datetime\n",
    "np.set_printoptions(threshold=np.inf)\n",
    "\n",
    "path='/home/mz/Desktop/breast-cancer-wisconsin.data'\n",
    "\n",
    "with open(path,'r') as cancerdata:\n",
    "    reader = csv.reader(cancerdata) \n",
    "    rows= [row for row in reader]\n",
    "    \n",
    "cdata=np.array(rows)               #change rows' datatype into array\n",
    "\n",
    "todelete=np.where(cdata=='?')               #save row number of 16 arrays which need to be deleted\n",
    "#print(todelete[0])\n",
    "ddataset=np.delete(cdata, todelete[0], axis = 0) #delete those rows which contain ‘？’\n",
    "\n",
    "#print(\"The type and shape of cdata is\",type(cdata), cdata.shape)\n",
    "#print(\"The type and shape of ddataset is\",type(ddataset), ddataset.shape)\n",
    "test=np.where(ddataset=='?')                #Check if there are still '?' in ndarray ddataset\n",
    "#print(\"The new dataset is contains ? in \", test)\n",
    "#print(ddataset)\n",
    "print('\\n')\n",
    "cdataset = ddataset.astype(np.float) #change datatype from string to float\n",
    "#print(cdataset)\n",
    "\n",
    "dataset = np.delete(cdataset,0,axis = 1) #处理好的数据\n",
    "for i in range(dataset.shape[0]):\n",
    "    if dataset[i,dataset.shape[1]-1]==2: dataset[i,dataset.shape[1]-1]=0\n",
    "    else: dataset[i,dataset.shape[1]-1]=1\n",
    "#print(dataset,dataset.shape)\n",
    "#data0=dataset\n",
    "datash = dataset\n",
    "np.random.shuffle(datash)\n",
    "data0=datash\n",
    "\n",
    "\n",
    "#k fold validation\n",
    "k=5\n",
    "n0 = data0.shape[0]\n",
    "X_test = data0[0:int(n0/k), 0:-1 ]\n",
    "y_test = data0[0:int(n0/k), -1 ]\n",
    "\n",
    "data2 = np.delete(data0, range(0,int(n0/k)),axis = 0)#delete testset from data\n",
    "X_all = data2[:,0:-1]\n",
    "y_all = data2[:,-1]\n",
    "\n",
    "\n",
    "n1 = data2.shape[0]#number of rows in data2 for training and verti\n",
    "X_valid = [[]for i in range(k)]\n",
    "X_train = [[]for i in range(k)]\n",
    "y_valid = [[]for i in range(k)]\n",
    "y_train = [[]for i in range(k)]\n",
    "trainset = [[]for i in range(k)]\n",
    "for i in range(0,k):#generate k training sets and validation sets\n",
    "    X_valid[i] = np.array(data2[int((i*n1)/k):int((i+1)*n1/k), 0:-1])\n",
    "    y_valid[i] = np.array(data2[int((i*n1)/k):int((i+1)*n1/k), -1])\n",
    "    a=np.arange(int((i*n1)/k),int((i+1)*n1/k))\n",
    "    trainset[i] = np.delete(data2, a , axis=0)\n",
    "    X_train[i] = trainset[i][:,0:-1]\n",
    "    y_train[i] = trainset[i][:,-1]\n",
    "    print('valid i=', i, X_train[i].shape)\n",
    "    print('valid i=', i, y_train[i].shape)"
   ]
  },
  {
   "cell_type": "code",
   "execution_count": 23,
   "metadata": {},
   "outputs": [
    {
     "name": "stdout",
     "output_type": "stream",
     "text": [
      "(136,)\n",
      "The accuracy is 0.9485294117647058\n",
      "[[40  3]\n",
      " [ 4 89]]\n",
      "used time is 0:00:00.059431\n"
     ]
    }
   ],
   "source": [
    "#1st\n",
    "start = datetime.datetime.now()\n",
    "ergeb = fit(X_all,y_all,X_test)\n",
    "Accu(ergeb,y_test)\n",
    "at=conmat(ergeb,y_test)\n",
    "print(at)\n",
    "end = datetime.datetime.now()\n",
    "print ('used time is',end-start)"
   ]
  },
  {
   "cell_type": "code",
   "execution_count": 27,
   "metadata": {},
   "outputs": [
    {
     "name": "stdout",
     "output_type": "stream",
     "text": [
      "(136,)\n",
      "The accuracy is 0.9632352941176471\n",
      "[[46  3]\n",
      " [ 2 85]]\n",
      "used time is 0:00:00.046075\n"
     ]
    }
   ],
   "source": [
    "#2nd\n",
    "start = datetime.datetime.now()\n",
    "ergeb = fit(X_all,y_all,X_test)\n",
    "Accu(ergeb,y_test)\n",
    "at=conmat(ergeb,y_test)\n",
    "print(at)\n",
    "end = datetime.datetime.now()\n",
    "print ('used time is',end-start)"
   ]
  },
  {
   "cell_type": "code",
   "execution_count": 33,
   "metadata": {},
   "outputs": [
    {
     "name": "stdout",
     "output_type": "stream",
     "text": [
      "(136,)\n",
      "The accuracy is 0.9558823529411765\n",
      "[[38  2]\n",
      " [ 4 92]]\n",
      "used time is 0:00:00.061332\n"
     ]
    }
   ],
   "source": [
    "#3rd\n",
    "start = datetime.datetime.now()\n",
    "ergeb = fit(X_all,y_all,X_test)\n",
    "Accu(ergeb,y_test)\n",
    "at=conmat(ergeb,y_test)\n",
    "print(at)\n",
    "end = datetime.datetime.now()\n",
    "print ('used time is',end-start)"
   ]
  },
  {
   "cell_type": "code",
   "execution_count": 35,
   "metadata": {},
   "outputs": [
    {
     "name": "stdout",
     "output_type": "stream",
     "text": [
      "(136,)\n",
      "The accuracy is 0.9779411764705882\n",
      "[[44  2]\n",
      " [ 1 89]]\n",
      "used time is 0:00:00.059389\n"
     ]
    }
   ],
   "source": [
    "#4th\n",
    "start = datetime.datetime.now()\n",
    "ergeb = fit(X_all,y_all,X_test)\n",
    "Accu(ergeb,y_test)\n",
    "at=conmat(ergeb,y_test)\n",
    "print(at)\n",
    "end = datetime.datetime.now()\n",
    "print ('used time is',end-start)"
   ]
  },
  {
   "cell_type": "code",
   "execution_count": 37,
   "metadata": {},
   "outputs": [
    {
     "name": "stdout",
     "output_type": "stream",
     "text": [
      "(136,)\n",
      "The accuracy is 0.9926470588235294\n",
      "[[49  1]\n",
      " [ 0 86]]\n",
      "used time is 0:00:00.077264\n"
     ]
    }
   ],
   "source": [
    "#5th\n",
    "start = datetime.datetime.now()\n",
    "ergeb = fit(X_all,y_all,X_test)\n",
    "Accu(ergeb,y_test)\n",
    "at=conmat(ergeb,y_test)\n",
    "print(at)\n",
    "end = datetime.datetime.now()\n",
    "print ('used time is',end-start)"
   ]
  },
  {
   "cell_type": "code",
   "execution_count": 5,
   "metadata": {},
   "outputs": [],
   "source": [
    "def Py(label,inClass):#input is label and value of label; This function returns the probability of value: label\n",
    "    tr=label\n",
    "    N=0\n",
    "    for i in range(tr.shape[0]):\n",
    "        if tr[i]==inClass: N=N+1\n",
    "    \n",
    "    Py=N/tr.shape[0]\n",
    "    return Py\n",
    "\n",
    "def N(label,inClass):#input is trainingset; This function returns the number of value: label in vertor label\n",
    "    tr=label\n",
    "    N=0\n",
    "    for i in range(tr.shape[0]):\n",
    "        if tr[i]==inClass: N=N+1\n",
    "    return N\n",
    "\n",
    "def rema(data,label,clas):#Divide a matrix into two matrices according to different value of label\n",
    "    #tr = np.c_[data,label]\n",
    "    #n = tr.shape\n",
    "    #last = data\n",
    "    #print(last)\n",
    "    tr = data\n",
    "    a = np.where(label==clas)\n",
    "    \n",
    "    #print(a[0])\n",
    "    \n",
    "    Subdata = tr[a[0],:]\n",
    "    \n",
    "    #Subdata = np.zeros([b,n[1]])\n",
    "    #Subdata = np.delete(tr, a[0], axis=0)\n",
    "    '''\n",
    "    for i in range(tr.shape[0]):\n",
    "        if tr[i,tr.shape[1]-1]==clas:\n",
    "            Subdata[i,] = tr[i,]\n",
    "    '''\n",
    "    #print(Subdata)\n",
    "    #print(Subdata2)\n",
    "    return Subdata \n",
    "\n",
    "def mean(data,label,inClass):#calculate the mean of a matrix\n",
    "    M=rema(data,label,inClass)\n",
    "    #Num=N(label,inClass)\n",
    "    Num=M.shape[0]\n",
    "    u=np.zeros(M.shape[1])\n",
    "    for i in range(M.shape[1]):\n",
    "        u[i]= 1/Num * sum(M[:,i])\n",
    "        #print(u)\n",
    "    return u\n",
    "\n",
    "def coVar(data,label):#calculate the co-variance matrix with help of function cov from numpy\n",
    "    tr = data\n",
    "    M0 = rema(tr,label,0)\n",
    "    M1 = rema(tr,label,1)\n",
    "    #u0 = mean(tr,Cl0)\n",
    "    #u1 = mean(tr,Cl1)\n",
    "\n",
    "    pre0 = M0[: , 0:M0.shape[1]]\n",
    "    pre0 = pre0.T\n",
    "    cov0 = np.cov(pre0)\n",
    "    #print(cov0)\n",
    "\n",
    "    pre1 = M1[:,0:M1.shape[1]]\n",
    "    pre1 = pre1.T\n",
    "    cov1 = np.cov(pre1)\n",
    "    #print(cov1)\n",
    "    cov = (cov0 + cov1)/(tr.shape[0]-2)\n",
    "    #print(cov)\n",
    "    return cov\n",
    "\n",
    "#data:traindat label:train label testdata:testdata\n",
    "def pred(data,label,testdata): #Training and finding covariance matirx in order to produce the prediction function and test produced cov matrix with testdata\n",
    "    tr = data\n",
    "    tt = label\n",
    "    \n",
    "    u1t = mean(tr,tt,1)\n",
    "    u1=u1t.reshape(u1t.shape[0],1)\n",
    "    \n",
    "    u0t = mean(tr,tt,0)\n",
    "    u0 = u0t.reshape(u0t.shape[0],1)\n",
    "    \n",
    "    cov = coVar(tr,tt)\n",
    "    inv = np.linalg.inv(cov)\n",
    "    \n",
    "    result = np.zeros(testdata.shape[0])\n",
    "    \n",
    "    for i in range(testdata.shape[0]):\n",
    "        logodd = math.log(Py(tt,0)/(1-Py(tt,0))) - 0.5*np.dot(np.dot(u1t,inv),u1) + 0.5*np.dot(np.dot(u0t,inv),u0) + np.dot(np.dot(testdata[i,],inv),u1-u0)             \n",
    "        if logodd>0:result[i]=1\n",
    "        else:result[i]=0\n",
    "    return result\n",
    "\n",
    "#return the accuracy through comparing label and produced result\n",
    "def Accu(result,label):\n",
    "    rV = label\n",
    "    n = 0\n",
    "    N = result.shape[0]\n",
    "    for i in range(result.shape[0]):\n",
    "        if rV[i] == result[i]:n=n+1\n",
    "    \n",
    "    print('The accuracy is',n/N)\n",
    "    return n/N\n",
    "\n",
    "def fit(X_train, y_train, X_test):\n",
    "    result = pred(X_all,y_all,X_test)\n",
    "    print(result.shape)\n",
    "    return result\n",
    "\n",
    "#return the confusion matrix\n",
    "def conmat(result,y):\n",
    "    rv = y\n",
    "    #print(result.shape)\n",
    "    #print(rv.shape)\n",
    "    TP = 0\n",
    "    TN = 0\n",
    "    FP = 0\n",
    "    FN = 0\n",
    "    for i in range(result.shape[0]):\n",
    "        if ((result[i]==1)&(rv[i]==1)): TP = TP+1\n",
    "        if ((result[i]==0)&(rv[i]==0)): TN = TN+1\n",
    "        if ((result[i]==0)&(rv[i]==1)): FN = FN+1\n",
    "        if ((result[i]==1)&(rv[i]==0)): FP = FP+1\n",
    "    metrix = np.array([[TP,FP], [FN,TN]])\n",
    "    return metrix"
   ]
  },
  {
   "cell_type": "code",
   "execution_count": 6,
   "metadata": {},
   "outputs": [
    {
     "name": "stdout",
     "output_type": "stream",
     "text": [
      "(136,)\n",
      "The accuracy is 0.9485294117647058\n"
     ]
    },
    {
     "data": {
      "text/plain": [
       "0.9485294117647058"
      ]
     },
     "execution_count": 6,
     "metadata": {},
     "output_type": "execute_result"
    }
   ],
   "source": [
    "ergeb = fit(X_all,y_all,X_test)\n",
    "conmat(ergeb,y_test)\n",
    "Accu(ergeb,y_test)"
   ]
  },
  {
   "cell_type": "code",
   "execution_count": 25,
   "metadata": {},
   "outputs": [
    {
     "name": "stdout",
     "output_type": "stream",
     "text": [
      "(136,)\n",
      "The accuracy is 0.9485294117647058\n"
     ]
    },
    {
     "data": {
      "text/plain": [
       "0.9485294117647058"
      ]
     },
     "execution_count": 25,
     "metadata": {},
     "output_type": "execute_result"
    }
   ],
   "source": [
    "ergeb = fit(X_all,y_all,X_test)\n",
    "conmat(ergeb,y_test)\n",
    "Accu(ergeb,y_test)"
   ]
  },
  {
   "cell_type": "code",
   "execution_count": null,
   "metadata": {},
   "outputs": [],
   "source": []
  }
 ],
 "metadata": {
  "kernelspec": {
   "display_name": "Python 3",
   "language": "python",
   "name": "python3"
  },
  "language_info": {
   "codemirror_mode": {
    "name": "ipython",
    "version": 3
   },
   "file_extension": ".py",
   "mimetype": "text/x-python",
   "name": "python",
   "nbconvert_exporter": "python",
   "pygments_lexer": "ipython3",
   "version": "3.7.3"
  }
 },
 "nbformat": 4,
 "nbformat_minor": 2
}

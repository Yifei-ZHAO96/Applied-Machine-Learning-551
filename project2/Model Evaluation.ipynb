{
 "cells": [
  {
   "cell_type": "code",
   "execution_count": 1,
   "metadata": {},
   "outputs": [],
   "source": [
    "import numpy as np\n",
    "import pandas as pd\n",
    "import csv\n",
    "from sklearn.model_selection import train_test_split\n",
    "from sklearn.feature_extraction.text import CountVectorizer\n",
    "import time\n",
    "from sklearn import metrics\n",
    "import pandas as pd\n",
    "from sklearn.feature_extraction.text import TfidfVectorizer\n",
    "from sklearn.model_selection import cross_val_score\n",
    "path='dataset//reddit_train.csv'\n",
    "path_test='dataset//reddit_test.csv'\n",
    "labels=['Overwatch','Music','conspiracy','AskReddit','worldnews','anime','hockey','baseball','funny','nba',\n",
    "    'canada','soccer','nfl','trees','gameofthrones','wow','leagueoflegends','GlobalOffensive','europe','movies']\n"
   ]
  },
  {
   "cell_type": "code",
   "execution_count": 2,
   "metadata": {},
   "outputs": [],
   "source": [
    "data = pd.read_csv(path)\n",
    "data_test = pd.read_csv(path_test)"
   ]
  },
  {
   "cell_type": "code",
   "execution_count": 3,
   "metadata": {},
   "outputs": [
    {
     "name": "stdout",
     "output_type": "stream",
     "text": [
      "0    Trout and Bryant have both led the league in s...\n",
      "1    &gt; Just like Estonians have good reasons to ...\n",
      "2    Will Sol_Primeval sotp being oblivious?\\n\\nfin...\n",
      "3    Moving Ostwald borders back to the pre 1967 bo...\n",
      "4           You have to take it out of the bag, Morty!\n",
      "Name: comments, dtype: object\n"
     ]
    }
   ],
   "source": [
    "X_train=data['comments']\n",
    "y_train=data['subreddits']\n",
    "X_test=data_test['comments']\n",
    "print(X_test[0:5])"
   ]
  },
  {
   "cell_type": "code",
   "execution_count": 4,
   "metadata": {},
   "outputs": [
    {
     "name": "stdout",
     "output_type": "stream",
     "text": [
      "CountVectorizer(analyzer='word', binary=False, decode_error='strict',\n",
      "                dtype=<class 'numpy.int64'>, encoding='utf-8', input='content',\n",
      "                lowercase=True, max_df=1.0, max_features=None, min_df=1,\n",
      "                ngram_range=(1, 1), preprocessor=None, stop_words='english',\n",
      "                strip_accents=None, token_pattern='(?u)\\\\b\\\\w\\\\w+\\\\b',\n",
      "                tokenizer=None, vocabulary=None)\n"
     ]
    }
   ],
   "source": [
    "vectorizer = CountVectorizer(stop_words='english')\n",
    "\n",
    "vectors_train = vectorizer.fit_transform(X_train)\n",
    "vectors_test = vectorizer.transform(X_test)\n",
    "print(vectorizer)"
   ]
  },
  {
   "cell_type": "code",
   "execution_count": 5,
   "metadata": {
    "scrolled": true
   },
   "outputs": [
    {
     "name": "stdout",
     "output_type": "stream",
     "text": [
      "70000\n",
      "30000\n"
     ]
    }
   ],
   "source": [
    "tf_idf_vectorizer = TfidfVectorizer(sublinear_tf=True)\n",
    "vectors_train_idf = tf_idf_vectorizer.fit_transform(X_train)\n",
    "vectors_test_idf = tf_idf_vectorizer.transform(X_test)\n",
    "print(X_train.size)\n",
    "print(X_test.size)"
   ]
  },
  {
   "cell_type": "markdown",
   "metadata": {},
   "source": [
    "# Model Evaluation(Ensemble)"
   ]
  },
  {
   "cell_type": "markdown",
   "metadata": {},
   "source": [
    "Voating Classifiers (8 models) imported from sklearn"
   ]
  },
  {
   "cell_type": "code",
   "execution_count": 20,
   "metadata": {
    "scrolled": false
   },
   "outputs": [
    {
     "name": "stdout",
     "output_type": "stream",
     "text": [
      "Accuracy: 0.57083 (+/- 0.00323) [MultinomialNB]\n",
      "time(s)):  2.5545105934143066\n"
     ]
    },
    {
     "name": "stderr",
     "output_type": "stream",
     "text": [
      "E:\\Anaconda\\lib\\site-packages\\sklearn\\linear_model\\logistic.py:432: FutureWarning: Default solver will be changed to 'lbfgs' in 0.22. Specify a solver to silence this warning.\n",
      "  FutureWarning)\n",
      "E:\\Anaconda\\lib\\site-packages\\sklearn\\linear_model\\logistic.py:469: FutureWarning: Default multi_class will be changed to 'auto' in 0.22. Specify the multi_class option to silence this warning.\n",
      "  \"this warning.\", FutureWarning)\n"
     ]
    },
    {
     "name": "stdout",
     "output_type": "stream",
     "text": [
      "Accuracy: 0.54086 (+/- 0.00222) [LogisticRegression]\n",
      "time(s)):  102.79083108901978\n"
     ]
    },
    {
     "name": "stderr",
     "output_type": "stream",
     "text": [
      "E:\\Anaconda\\lib\\site-packages\\sklearn\\ensemble\\forest.py:245: FutureWarning: The default value of n_estimators will change from 10 in version 0.20 to 100 in 0.22.\n",
      "  \"10 in version 0.20 to 100 in 0.22.\", FutureWarning)\n",
      "E:\\Anaconda\\lib\\site-packages\\sklearn\\ensemble\\forest.py:245: FutureWarning: The default value of n_estimators will change from 10 in version 0.20 to 100 in 0.22.\n",
      "  \"10 in version 0.20 to 100 in 0.22.\", FutureWarning)\n",
      "E:\\Anaconda\\lib\\site-packages\\sklearn\\ensemble\\forest.py:245: FutureWarning: The default value of n_estimators will change from 10 in version 0.20 to 100 in 0.22.\n",
      "  \"10 in version 0.20 to 100 in 0.22.\", FutureWarning)\n",
      "E:\\Anaconda\\lib\\site-packages\\sklearn\\ensemble\\forest.py:245: FutureWarning: The default value of n_estimators will change from 10 in version 0.20 to 100 in 0.22.\n",
      "  \"10 in version 0.20 to 100 in 0.22.\", FutureWarning)\n",
      "E:\\Anaconda\\lib\\site-packages\\sklearn\\ensemble\\forest.py:245: FutureWarning: The default value of n_estimators will change from 10 in version 0.20 to 100 in 0.22.\n",
      "  \"10 in version 0.20 to 100 in 0.22.\", FutureWarning)\n"
     ]
    },
    {
     "name": "stdout",
     "output_type": "stream",
     "text": [
      "Accuracy: 0.31484 (+/- 0.00615) [RandomForestClassifier]\n",
      "time(s)):  287.21384954452515\n",
      "Accuracy: 0.26087 (+/- 0.00641) [DecisionTreeClassifier]\n",
      "time(s)):  559.2987871170044\n",
      "Accuracy: 0.47397 (+/- 0.00210) [BernoulliNB]\n",
      "time(s)):  2.7424213886260986\n",
      "Accuracy: 0.56733 (+/- 0.00200) [LinearSVC]\n",
      "time(s)):  23.432509899139404\n",
      "Accuracy: 0.06847 (+/- 0.00177) [KNeighborsClassifier]\n",
      "time(s)):  277.2671570777893\n",
      "Accuracy: 0.56627 (+/- 0.00141) [SGDClassifier]\n",
      "time(s)):  35.95237350463867\n"
     ]
    },
    {
     "name": "stderr",
     "output_type": "stream",
     "text": [
      "E:\\Anaconda\\lib\\site-packages\\sklearn\\linear_model\\logistic.py:432: FutureWarning: Default solver will be changed to 'lbfgs' in 0.22. Specify a solver to silence this warning.\n",
      "  FutureWarning)\n",
      "E:\\Anaconda\\lib\\site-packages\\sklearn\\linear_model\\logistic.py:469: FutureWarning: Default multi_class will be changed to 'auto' in 0.22. Specify the multi_class option to silence this warning.\n",
      "  \"this warning.\", FutureWarning)\n",
      "E:\\Anaconda\\lib\\site-packages\\sklearn\\ensemble\\forest.py:245: FutureWarning: The default value of n_estimators will change from 10 in version 0.20 to 100 in 0.22.\n",
      "  \"10 in version 0.20 to 100 in 0.22.\", FutureWarning)\n",
      "E:\\Anaconda\\lib\\site-packages\\sklearn\\linear_model\\logistic.py:432: FutureWarning: Default solver will be changed to 'lbfgs' in 0.22. Specify a solver to silence this warning.\n",
      "  FutureWarning)\n",
      "E:\\Anaconda\\lib\\site-packages\\sklearn\\linear_model\\logistic.py:469: FutureWarning: Default multi_class will be changed to 'auto' in 0.22. Specify the multi_class option to silence this warning.\n",
      "  \"this warning.\", FutureWarning)\n",
      "E:\\Anaconda\\lib\\site-packages\\sklearn\\ensemble\\forest.py:245: FutureWarning: The default value of n_estimators will change from 10 in version 0.20 to 100 in 0.22.\n",
      "  \"10 in version 0.20 to 100 in 0.22.\", FutureWarning)\n",
      "E:\\Anaconda\\lib\\site-packages\\sklearn\\linear_model\\logistic.py:432: FutureWarning: Default solver will be changed to 'lbfgs' in 0.22. Specify a solver to silence this warning.\n",
      "  FutureWarning)\n",
      "E:\\Anaconda\\lib\\site-packages\\sklearn\\linear_model\\logistic.py:469: FutureWarning: Default multi_class will be changed to 'auto' in 0.22. Specify the multi_class option to silence this warning.\n",
      "  \"this warning.\", FutureWarning)\n",
      "E:\\Anaconda\\lib\\site-packages\\sklearn\\ensemble\\forest.py:245: FutureWarning: The default value of n_estimators will change from 10 in version 0.20 to 100 in 0.22.\n",
      "  \"10 in version 0.20 to 100 in 0.22.\", FutureWarning)\n",
      "E:\\Anaconda\\lib\\site-packages\\sklearn\\linear_model\\logistic.py:432: FutureWarning: Default solver will be changed to 'lbfgs' in 0.22. Specify a solver to silence this warning.\n",
      "  FutureWarning)\n",
      "E:\\Anaconda\\lib\\site-packages\\sklearn\\linear_model\\logistic.py:469: FutureWarning: Default multi_class will be changed to 'auto' in 0.22. Specify the multi_class option to silence this warning.\n",
      "  \"this warning.\", FutureWarning)\n",
      "E:\\Anaconda\\lib\\site-packages\\sklearn\\ensemble\\forest.py:245: FutureWarning: The default value of n_estimators will change from 10 in version 0.20 to 100 in 0.22.\n",
      "  \"10 in version 0.20 to 100 in 0.22.\", FutureWarning)\n",
      "E:\\Anaconda\\lib\\site-packages\\sklearn\\linear_model\\logistic.py:432: FutureWarning: Default solver will be changed to 'lbfgs' in 0.22. Specify a solver to silence this warning.\n",
      "  FutureWarning)\n",
      "E:\\Anaconda\\lib\\site-packages\\sklearn\\linear_model\\logistic.py:469: FutureWarning: Default multi_class will be changed to 'auto' in 0.22. Specify the multi_class option to silence this warning.\n",
      "  \"this warning.\", FutureWarning)\n",
      "E:\\Anaconda\\lib\\site-packages\\sklearn\\ensemble\\forest.py:245: FutureWarning: The default value of n_estimators will change from 10 in version 0.20 to 100 in 0.22.\n",
      "  \"10 in version 0.20 to 100 in 0.22.\", FutureWarning)\n"
     ]
    },
    {
     "name": "stdout",
     "output_type": "stream",
     "text": [
      "Accuracy: 0.57146 (+/- 0.00215) [Ensemble]\n",
      "time(s)):  1336.9850368499756\n"
     ]
    }
   ],
   "source": [
    "from sklearn import datasets\n",
    "from sklearn.naive_bayes import MultinomialNB\n",
    "from sklearn.model_selection import cross_val_score\n",
    "from sklearn.linear_model import LogisticRegression\n",
    "from sklearn.naive_bayes import GaussianNB\n",
    "from sklearn.ensemble import RandomForestClassifier\n",
    "from sklearn.ensemble import VotingClassifier\n",
    "from sklearn.tree import DecisionTreeClassifier\n",
    "from sklearn.svm import LinearSVC\n",
    "from sklearn.naive_bayes import BernoulliNB\n",
    "from sklearn.neighbors import KNeighborsClassifier\n",
    "from sklearn.linear_model import SGDClassifier\n",
    "\n",
    "#iris = datasets.load_iris()\n",
    "#vectors_train_idf, y_train = iris.data, iris.target\n",
    "\n",
    "clf1 = MultinomialNB(alpha=.2)\n",
    "clf2 = LogisticRegression()\n",
    "clf3 = RandomForestClassifier()\n",
    "clf4 = DecisionTreeClassifier()\n",
    "clf5 = BernoulliNB()\n",
    "clf6 = LinearSVC(C=0.2)\n",
    "clf7 = KNeighborsClassifier()\n",
    "clf8 = SGDClassifier(average=True, alpha=0.00002, max_iter=20, tol=None)\n",
    "\n",
    "eclf = VotingClassifier(estimators=[('MNB', clf1), ('LR', clf2),\n",
    "                                    ('RFC', clf3), ('DTC', clf4), ('BNB', clf5), \n",
    "                                    ('SVC', clf6), ('KNN', clf7), ('SGD', clf8)], voting='hard')\n",
    "\n",
    "\n",
    "for clf, label in zip([clf1, clf2, clf3, clf4, clf5, clf6, clf7, clf8, eclf], ['MultinomialNB', 'LogisticRegression', \n",
    "                                                                         'RandomForestClassifier', \n",
    "                                                                         'DecisionTreeClassifier', 'BernoulliNB', \n",
    "                                                                         'LinearSVC', 'KNeighborsClassifier',\n",
    "                                                                          'SGDClassifier', 'Ensemble']):\n",
    "    start=time.time()\n",
    "    scores = cross_val_score(clf, vectors_train_idf, y_train, cv=5, scoring='accuracy')\n",
    "    end=time.time()\n",
    "    print(\"Accuracy: %0.5f (+/- %0.5f) [%s]\" % (scores.mean(), scores.std(), label))\n",
    "    print(\"time(s): \",end-start)"
   ]
  },
  {
   "cell_type": "markdown",
   "metadata": {},
   "source": [
    "Voating Classifiers (3 models) imported from sklearn"
   ]
  },
  {
   "cell_type": "code",
   "execution_count": 21,
   "metadata": {},
   "outputs": [
    {
     "name": "stdout",
     "output_type": "stream",
     "text": [
      "Accuracy: 0.57083 (+/- 0.00323) [MultinomialNB]\n",
      "time(s):  3.421572685241699\n",
      "Accuracy: 0.56733 (+/- 0.00200) [LinearSVC]\n",
      "time(s):  33.591904163360596\n",
      "Accuracy: 0.56604 (+/- 0.00176) [SGDClassifier]\n",
      "time(s):  51.73287296295166\n",
      "Accuracy: 0.57441 (+/- 0.00251) [Ensemble]\n",
      "time(s):  81.51778721809387\n"
     ]
    }
   ],
   "source": [
    "from sklearn import datasets\n",
    "from sklearn.naive_bayes import MultinomialNB\n",
    "from sklearn.model_selection import cross_val_score\n",
    "from sklearn.linear_model import LogisticRegression\n",
    "from sklearn.ensemble import VotingClassifier\n",
    "from sklearn.svm import LinearSVC\n",
    "from sklearn.linear_model import SGDClassifier\n",
    "\n",
    "\n",
    "clf1 = MultinomialNB(alpha=0.2)\n",
    "\n",
    "clf2 = LinearSVC(C=0.2)\n",
    "clf3 = SGDClassifier(average=True, alpha=0.00002, max_iter=20, tol=None)\n",
    "\n",
    "eclf1 = VotingClassifier(estimators=[('MNB', clf1), \n",
    "                                    ('SVC', clf2),\n",
    "                                     ('SGD', clf3)], voting='hard')\n",
    "\n",
    "for clf, label in zip([clf1, clf2, clf3, eclf1], ['MultinomialNB', \n",
    "                                                 'LinearSVC', \n",
    "                                                  'SGDClassifier', 'Ensemble']):\n",
    "    start=time.time()\n",
    "    scores = cross_val_score(clf, vectors_train_idf, y_train, cv=5, scoring='accuracy')\n",
    "    end=time.time()\n",
    "    print(\"Accuracy: %0.5f (+/- %0.5f) [%s]\" % (scores.mean(), scores.std(), label))\n",
    "    print(\"time(s): \",end-start)"
   ]
  },
  {
   "cell_type": "markdown",
   "metadata": {},
   "source": [
    "Ensemble method 2 developed by ourselves"
   ]
  },
  {
   "cell_type": "code",
   "execution_count": 12,
   "metadata": {},
   "outputs": [],
   "source": [
    "X_train, X_test, y_train, y_test = train_test_split(data['comments'], data['subreddits'], train_size=0.7, test_size=0.3)\n",
    "\n",
    "tf_idf_vectorizer = TfidfVectorizer(sublinear_tf = True)\n",
    "vectors_train_idf = tf_idf_vectorizer.fit_transform(X_train)\n",
    "vectors_test_idf = tf_idf_vectorizer.transform(X_test)"
   ]
  },
  {
   "cell_type": "code",
   "execution_count": 13,
   "metadata": {},
   "outputs": [
    {
     "name": "stdout",
     "output_type": "stream",
     "text": [
      "test accuracy: 56.96%\n"
     ]
    }
   ],
   "source": [
    "#MultinomialNB\n",
    "start=time.time()\n",
    "from sklearn.naive_bayes import MultinomialNB\n",
    "MNB_clf=MultinomialNB(alpha=0.2)\n",
    "MNB_clf.fit(vectors_train_idf, y_train)\n",
    "y_pred=MNB_clf.predict(vectors_test_idf)\n",
    "mnb_report = metrics.classification_report(y_test,y_pred,output_dict=True)\n",
    "print(\"test accuracy: %0.2f%%\" %((y_pred==y_test).astype(np.int).mean()*100))"
   ]
  },
  {
   "cell_type": "code",
   "execution_count": 14,
   "metadata": {},
   "outputs": [
    {
     "name": "stdout",
     "output_type": "stream",
     "text": [
      "test accuracy: 56.13%\n"
     ]
    }
   ],
   "source": [
    "#SGDClassifier\n",
    "from sklearn.linear_model import SGDClassifier\n",
    "lsvm = SGDClassifier(average=True, alpha=0.00002, max_iter=100, tol=0.0001,loss=\"hinge\")\n",
    "lsvm.fit(vectors_train_idf, y_train)\n",
    "y_pred_lsvm=lsvm.predict(vectors_test_idf)\n",
    "lsvm_report = metrics.classification_report(y_test,y_pred_lsvm,output_dict=True)\n",
    "print(\"test accuracy: %0.2f%%\" %((y_pred_lsvm==y_test).astype(np.int).mean()*100))"
   ]
  },
  {
   "cell_type": "code",
   "execution_count": 15,
   "metadata": {},
   "outputs": [
    {
     "name": "stdout",
     "output_type": "stream",
     "text": [
      "test accuracy: 56.50%\n"
     ]
    }
   ],
   "source": [
    "#LinearSVC\n",
    "from sklearn.svm import LinearSVC\n",
    "svc_clf = LinearSVC(C=0.2)\n",
    "svc_clf.fit(vectors_train_idf, y_train)\n",
    "y_pred_svc=svc_clf.predict(vectors_test_idf)\n",
    "svc_report = metrics.classification_report(y_test,y_pred_svc,output_dict=True)\n",
    "print(\"test accuracy: %0.2f%%\" %((y_pred_svc==y_test).astype(np.int).mean()*100))"
   ]
  },
  {
   "cell_type": "code",
   "execution_count": 16,
   "metadata": {},
   "outputs": [],
   "source": [
    "def developed_ensemble(label_a,label_b,label_d):\n",
    "    if label_b==label_d:\n",
    "        a = mnb_report[label_a]['precision']\n",
    "        b = svc_report[label_b]['precision']\n",
    "        d = lsvm_report[label_d]['precision']\n",
    "        if a == max(a,b,d):\n",
    "            return label_a\n",
    "        elif b == max(a,b,d):\n",
    "            return label_b\n",
    "        else:\n",
    "            return label_d\n",
    "    else:\n",
    "        return label_a"
   ]
  },
  {
   "cell_type": "code",
   "execution_count": 17,
   "metadata": {},
   "outputs": [
    {
     "name": "stdout",
     "output_type": "stream",
     "text": [
      "test accuracy: 57.71%\n",
      "time: 14.410178184509277\n"
     ]
    }
   ],
   "source": [
    "y_pred_final = np.copy(y_pred)\n",
    "for i in range(len(y_pred)):\n",
    "    y_pred_final[i] = developed_ensemble(y_pred[i], y_pred_svc[i],y_pred_lsvm[i])\n",
    "    \n",
    "print(\"test accuracy: %0.2f%%\" %((y_pred_final==y_test).astype(np.int).mean()*100))\n",
    "end=time.time()\n",
    "print(\"time:\",end-start)"
   ]
  },
  {
   "cell_type": "code",
   "execution_count": null,
   "metadata": {},
   "outputs": [],
   "source": []
  }
 ],
 "metadata": {
  "kernelspec": {
   "display_name": "Python 3",
   "language": "python",
   "name": "python3"
  },
  "language_info": {
   "codemirror_mode": {
    "name": "ipython",
    "version": 3
   },
   "file_extension": ".py",
   "mimetype": "text/x-python",
   "name": "python",
   "nbconvert_exporter": "python",
   "pygments_lexer": "ipython3",
   "version": "3.7.3"
  }
 },
 "nbformat": 4,
 "nbformat_minor": 2
}

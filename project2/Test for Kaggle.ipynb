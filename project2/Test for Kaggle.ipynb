{
 "cells": [
  {
   "cell_type": "code",
   "execution_count": 1,
   "metadata": {},
   "outputs": [],
   "source": [
    "import numpy as np\n",
    "import pandas as pd\n",
    "import csv\n",
    "from sklearn.model_selection import train_test_split\n",
    "from sklearn import metrics\n",
    "\n",
    "#import numpy as np\n",
    "from nltk import word_tokenize, pos_tag\n",
    "from nltk.corpus import wordnet\n",
    "from nltk.stem import WordNetLemmatizer\n",
    "from sklearn.preprocessing import StandardScaler\n",
    "\n",
    "path='dataset//reddit_train.csv'"
   ]
  },
  {
   "cell_type": "code",
   "execution_count": 2,
   "metadata": {},
   "outputs": [],
   "source": [
    "data = pd.read_csv(path)"
   ]
  },
  {
   "cell_type": "code",
   "execution_count": 3,
   "metadata": {},
   "outputs": [],
   "source": [
    "X_train, X_test, y_train, y_test = train_test_split(data['comments'], data['subreddits'], train_size=0.7, test_size=0.3)"
   ]
  },
  {
   "cell_type": "code",
   "execution_count": 4,
   "metadata": {
    "scrolled": true
   },
   "outputs": [],
   "source": [
    "from sklearn.feature_extraction.text import TfidfVectorizer\n",
    "from sklearn import preprocessing\n",
    "tf_idf_vectorizer = TfidfVectorizer(sublinear_tf = True)\n",
    "\n",
    "vectors_train_idf = tf_idf_vectorizer.fit_transform(X_train)\n",
    "vectors_test_idf = tf_idf_vectorizer.transform(X_test)"
   ]
  },
  {
   "cell_type": "code",
   "execution_count": 5,
   "metadata": {},
   "outputs": [
    {
     "name": "stdout",
     "output_type": "stream",
     "text": [
      "(49000, 62041)\n"
     ]
    }
   ],
   "source": [
    "print(vectors_train_idf.shape)"
   ]
  },
  {
   "cell_type": "markdown",
   "metadata": {},
   "source": [
    "# find the best classifier for each class"
   ]
  },
  {
   "cell_type": "code",
   "execution_count": 6,
   "metadata": {},
   "outputs": [
    {
     "name": "stdout",
     "output_type": "stream",
     "text": [
      "test accuracy: 56.45%\n"
     ]
    }
   ],
   "source": [
    "###MultinomialNB\n",
    "from sklearn.naive_bayes import MultinomialNB\n",
    "from sklearn.model_selection import cross_val_score\n",
    "MNB_clf = MultinomialNB(alpha=.2)\n",
    "MNB_clf.fit(vectors_train_idf, y_train)\n",
    "y_pred=MNB_clf.predict(vectors_test_idf)\n",
    "mnb_report = metrics.classification_report(y_test,y_pred,output_dict=True)\n",
    "\n",
    "print(\"test accuracy: %0.2f%%\" %((y_pred==y_test).astype(np.int).mean()*100))"
   ]
  },
  {
   "cell_type": "code",
   "execution_count": 7,
   "metadata": {},
   "outputs": [
    {
     "name": "stdout",
     "output_type": "stream",
     "text": [
      "test accuracy: 55.87%\n"
     ]
    }
   ],
   "source": [
    "from sklearn.svm import LinearSVC\n",
    "svc_clf = LinearSVC(C=0.2)\n",
    "\n",
    "svc_clf.fit(vectors_train_idf, y_train)\n",
    "y_pred_svc=svc_clf.predict(vectors_test_idf)\n",
    "svc_report = metrics.classification_report(y_test,y_pred_svc,output_dict=True)\n",
    "\n",
    "print(\"test accuracy: %0.2f%%\" %((y_pred_svc==y_test).astype(np.int).mean()*100))"
   ]
  },
  {
   "cell_type": "code",
   "execution_count": 8,
   "metadata": {},
   "outputs": [
    {
     "name": "stdout",
     "output_type": "stream",
     "text": [
      "test accuracy: 55.99%\n"
     ]
    }
   ],
   "source": [
    "from sklearn.linear_model import SGDClassifier\n",
    "\n",
    "lsvm = SGDClassifier(average=True, alpha=0.00002, max_iter=20, tol=None)\n",
    "\n",
    "lsvm.fit(vectors_train_idf, y_train)\n",
    "y_pred_lsvm=lsvm.predict(vectors_test_idf)\n",
    "lsvm_report = metrics.classification_report(y_test,y_pred_lsvm,output_dict=True)\n",
    "\n",
    "print(\"test accuracy: %0.2f%%\" %((y_pred_lsvm==y_test).astype(np.int).mean()*100))"
   ]
  },
  {
   "cell_type": "code",
   "execution_count": 9,
   "metadata": {},
   "outputs": [
    {
     "name": "stdout",
     "output_type": "stream",
     "text": [
      "test accuracy: 57.10%\n"
     ]
    }
   ],
   "source": [
    "def select(label_a,label_b,label_d):\n",
    "    if label_b==label_d:\n",
    "        a = mnb_report[label_a]['precision']\n",
    "        b = svc_report[label_b]['precision']\n",
    "        d = lsvm_report[label_d]['precision']\n",
    "        if a == max(a,b,d):\n",
    "            return label_a\n",
    "        elif b == max(a,b,d):\n",
    "            return label_b\n",
    "        else:\n",
    "            return label_d\n",
    "    else:\n",
    "        return label_a\n",
    "    \n",
    "y_pred_final = np.copy(y_pred)\n",
    "\n",
    "for i in range(len(y_pred)):\n",
    "    y_pred_final[i] = select(y_pred[i], y_pred_svc[i],y_pred_lsvm[i])\n",
    "    \n",
    "print(\"test accuracy: %0.2f%%\" %((y_pred_final==y_test).astype(np.int).mean()*100))\n"
   ]
  },
  {
   "cell_type": "markdown",
   "metadata": {},
   "source": [
    "# Ensemble"
   ]
  },
  {
   "cell_type": "code",
   "execution_count": 10,
   "metadata": {},
   "outputs": [],
   "source": [
    "path='dataset//reddit_train.csv'\n",
    "path_test='dataset//reddit_test.csv'\n",
    "labels=['Overwatch','Music','conspiracy','AskReddit','worldnews','anime','hockey','baseball','funny','nba',\n",
    "    'canada','soccer','nfl','trees','gameofthrones','wow','leagueoflegends','GlobalOffensive','europe','movies']\n",
    "\n",
    "data = pd.read_csv(path)\n",
    "data_test = pd.read_csv(path_test)\n",
    "\n",
    "X_train=data['comments']\n",
    "y_train=data['subreddits']\n",
    "X_test=data_test['comments']"
   ]
  },
  {
   "cell_type": "code",
   "execution_count": 11,
   "metadata": {},
   "outputs": [],
   "source": [
    "tf_idf_vectorizer = TfidfVectorizer(sublinear_tf = True)\n",
    "\n",
    "vectors_train_idf = tf_idf_vectorizer.fit_transform(X_train)\n",
    "vectors_test_idf = tf_idf_vectorizer.transform(X_test)"
   ]
  },
  {
   "cell_type": "code",
   "execution_count": 12,
   "metadata": {},
   "outputs": [
    {
     "name": "stdout",
     "output_type": "stream",
     "text": [
      "(70000, 74265)\n",
      "(30000, 74265)\n"
     ]
    }
   ],
   "source": [
    "print(vectors_train_idf.shape)\n",
    "print(vectors_test_idf.shape)"
   ]
  },
  {
   "cell_type": "code",
   "execution_count": 13,
   "metadata": {},
   "outputs": [],
   "source": [
    "MNB_clf = MultinomialNB(alpha=.22)\n",
    "MNB_clf.fit(vectors_train_idf, y_train)\n",
    "y_pred=MNB_clf.predict(vectors_test_idf)\n",
    "\n",
    "svc_clf = LinearSVC(C=0.2)\n",
    "svc_clf.fit(vectors_train_idf, y_train)\n",
    "y_pred_svc=svc_clf.predict(vectors_test_idf)\n",
    "\n",
    "lsvm = SGDClassifier(average=True, alpha=0.00002, max_iter=20, tol=None)\n",
    "lsvm.fit(vectors_train_idf, y_train)\n",
    "y_pred_lsvm=lsvm.predict(vectors_test_idf)"
   ]
  },
  {
   "cell_type": "code",
   "execution_count": 14,
   "metadata": {},
   "outputs": [],
   "source": [
    "def select(label_a,label_b,label_d):\n",
    "    if label_b==label_d:\n",
    "        a = mnb_report[label_a]['precision']\n",
    "        b = svc_report[label_b]['precision']\n",
    "        d = lsvm_report[label_d]['precision']\n",
    "        if a == max(a,b,d):\n",
    "            return label_a\n",
    "        elif b == max(a,b,d):\n",
    "            return label_b\n",
    "        else:\n",
    "            return label_d\n",
    "    else:\n",
    "        return label_a\n",
    "    \n",
    "y_pred_final = np.copy(y_pred)\n",
    "\n",
    "for i in range(len(y_pred)):\n",
    "    y_pred_final[i] = select(y_pred[i], y_pred_svc[i],y_pred_lsvm[i])\n"
   ]
  },
  {
   "cell_type": "code",
   "execution_count": null,
   "metadata": {},
   "outputs": [],
   "source": [
    "savepath=\"test_launch_kaggle.csv\"\n",
    "lens=len(y_pred_final)\n",
    "    \n",
    "for i in range(lens):\n",
    "    with open(savepath, 'a+', newline='') as csvfile:      \n",
    "        csv_write = csv.writer(csvfile)\n",
    "        csv_write.writerows([[y_pred_final[i]]])    \n",
    "f = open(savepath)\n",
    "csv_read = csv.reader(f)\n",
    "for line in csv_read:                \n",
    "    print(line)"
   ]
  },
  {
   "cell_type": "code",
   "execution_count": null,
   "metadata": {},
   "outputs": [],
   "source": [
    "readpath=savepath\n",
    "writepath=\"dataset//reddit_test.csv\"\n",
    "read_data = pd.read_csv(readpath, header=None, names =[\"Category\"])\n",
    "write_data = pd.read_csv(writepath,usecols=['id'])\n",
    "\n",
    "write_data[\"Category\"] = read_data[\"Category\"] \n",
    "pt=\"reddit_test_kaggle.csv\"\n",
    "write_data.to_csv(pt, mode = 'w',index =False)"
   ]
  }
 ],
 "metadata": {
  "kernelspec": {
   "display_name": "Python 3",
   "language": "python",
   "name": "python3"
  },
  "language_info": {
   "codemirror_mode": {
    "name": "ipython",
    "version": 3
   },
   "file_extension": ".py",
   "mimetype": "text/x-python",
   "name": "python",
   "nbconvert_exporter": "python",
   "pygments_lexer": "ipython3",
   "version": "3.7.3"
  }
 },
 "nbformat": 4,
 "nbformat_minor": 2
}

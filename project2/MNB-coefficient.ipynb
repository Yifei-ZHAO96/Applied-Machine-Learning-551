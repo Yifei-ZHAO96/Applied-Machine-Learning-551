{
 "cells": [
  {
   "cell_type": "code",
   "execution_count": 1,
   "metadata": {},
   "outputs": [],
   "source": [
    "import numpy as np\n",
    "import pandas as pd\n",
    "import csv\n",
    "from sklearn.model_selection import train_test_split\n",
    "from sklearn.feature_extraction.text import CountVectorizer\n",
    "import time\n",
    "from sklearn import metrics\n",
    "path='dataset//reddit_train.csv'\n",
    "path_test='dataset//reddit_test.csv'\n",
    "labels=['Overwatch','Music','conspiracy','AskReddit','worldnews','anime','hockey','baseball','funny','nba',\n",
    "    'canada','soccer','nfl','trees','gameofthrones','wow','leagueoflegends','GlobalOffensive','europe','movies']\n"
   ]
  },
  {
   "cell_type": "code",
   "execution_count": 2,
   "metadata": {},
   "outputs": [],
   "source": [
    "data = pd.read_csv(path)"
   ]
  },
  {
   "cell_type": "code",
   "execution_count": 3,
   "metadata": {},
   "outputs": [
    {
     "name": "stdout",
     "output_type": "stream",
     "text": [
      "56000\n"
     ]
    }
   ],
   "source": [
    "X_train, X_test, y_train, y_test = train_test_split(data['comments'], data['subreddits'], train_size=0.8, test_size=0.2)\n",
    "print(len(X_train))"
   ]
  },
  {
   "cell_type": "code",
   "execution_count": 4,
   "metadata": {},
   "outputs": [
    {
     "name": "stdout",
     "output_type": "stream",
     "text": [
      "CountVectorizer(analyzer='word', binary=False, decode_error='strict',\n",
      "                dtype=<class 'numpy.int64'>, encoding='utf-8', input='content',\n",
      "                lowercase=True, max_df=1.0, max_features=None, min_df=1,\n",
      "                ngram_range=(1, 1), preprocessor=None, stop_words='english',\n",
      "                strip_accents=None, token_pattern='(?u)\\\\b\\\\w\\\\w+\\\\b',\n",
      "                tokenizer=None, vocabulary=None)\n"
     ]
    }
   ],
   "source": [
    "vectorizer = CountVectorizer(stop_words='english')\n",
    "print(vectorizer)\n",
    "vectors_train = vectorizer.fit_transform(X_train)\n",
    "\n",
    "# and we do the same for test data. remember to use the same vectorizer, only transform (why?)\n",
    "vectors_test = vectorizer.transform(X_test)"
   ]
  },
  {
   "cell_type": "code",
   "execution_count": 5,
   "metadata": {},
   "outputs": [],
   "source": [
    "from sklearn.feature_extraction.text import TfidfVectorizer\n",
    "\n",
    "tf_idf_vectorizer = TfidfVectorizer()\n",
    "vectors_train_idf = tf_idf_vectorizer.fit_transform(X_train)\n",
    "vectors_test_idf = tf_idf_vectorizer.transform(X_test)"
   ]
  },
  {
   "cell_type": "code",
   "execution_count": 6,
   "metadata": {},
   "outputs": [
    {
     "name": "stdout",
     "output_type": "stream",
     "text": [
      "test accuracy: 55.21%\n"
     ]
    }
   ],
   "source": [
    "###MultinomialNB\n",
    "from sklearn.naive_bayes import MultinomialNB\n",
    "MNB_clf = MultinomialNB(alpha=.01)\n",
    "MNB_clf.fit(vectors_train_idf, y_train)\n",
    "#scores = cross_val_score(MNB_clf, vectors_train, y_train, cv=5)\n",
    "#print(scores)\n",
    "y_pred=MNB_clf.predict(vectors_test_idf)\n",
    "print(\"test accuracy: %0.2f%%\" %((y_pred==y_test).astype(np.int).mean()*100))"
   ]
  },
  {
   "cell_type": "code",
   "execution_count": 7,
   "metadata": {},
   "outputs": [
    {
     "name": "stdout",
     "output_type": "stream",
     "text": [
      "alpha:  0.0001\n",
      "[0.51547863 0.51544091 0.50906331 0.5142015  0.51411723]\n",
      "test accuracy: 52.65%\n",
      "alpha:  0.0002\n",
      "[0.51815505 0.51936808 0.51272435 0.51661308 0.51733381]\n",
      "test accuracy: 52.90%\n",
      "alpha:  0.00030000000000000003\n",
      "[0.51958248 0.52097465 0.51459952 0.51866738 0.51938885]\n",
      "test accuracy: 53.11%\n",
      "alpha:  0.0004\n",
      "[0.52020698 0.52240271 0.51593892 0.52009646 0.52090779]\n",
      "test accuracy: 53.19%\n",
      "alpha:  0.0005\n",
      "[0.52118833 0.52383077 0.51692115 0.52036442 0.52251608]\n",
      "test accuracy: 53.27%\n",
      "alpha:  0.0006000000000000001\n",
      "[0.52208047 0.52499107 0.51745692 0.52107896 0.52349893]\n",
      "test accuracy: 53.37%\n",
      "alpha:  0.0007\n",
      "[0.5228834  0.52641914 0.51826056 0.52206145 0.52421372]\n",
      "test accuracy: 53.46%\n",
      "alpha:  0.0008\n",
      "[0.52377554 0.52793645 0.51888561 0.52295463 0.52492852]\n",
      "test accuracy: 53.56%\n",
      "alpha:  0.0009000000000000001\n",
      "[0.52422161 0.52838272 0.51924279 0.5233119  0.52564332]\n",
      "test accuracy: 53.64%\n",
      "alpha:  0.001\n",
      "[0.52440004 0.52873974 0.52004643 0.52357985 0.52644746]\n",
      "test accuracy: 53.69%\n"
     ]
    }
   ],
   "source": [
    "###MultinomialNB\n",
    "from sklearn.naive_bayes import MultinomialNB\n",
    "from sklearn.model_selection import cross_val_score\n",
    "for i in range(10):\n",
    "    print(\"alpha: \", 0.0001*(i+1))\n",
    "    MNB_clf = MultinomialNB(alpha=.0001*(i+1))\n",
    "    MNB_clf.fit(vectors_train_idf, y_train)\n",
    "    scores = cross_val_score(MNB_clf, vectors_train_idf, y_train, cv=5)\n",
    "    print(scores)\n",
    "    y_pred=MNB_clf.predict(vectors_test_idf)\n",
    "    print(\"test accuracy: %0.2f%%\" %((y_pred==y_test).astype(np.int).mean()*100))"
   ]
  },
  {
   "cell_type": "code",
   "execution_count": 8,
   "metadata": {},
   "outputs": [
    {
     "name": "stdout",
     "output_type": "stream",
     "text": [
      "alpha:  0.001\n",
      "[0.52440004 0.52873974 0.52004643 0.52357985 0.52644746]\n",
      "test accuracy: 53.69%\n",
      "alpha:  0.002\n",
      "[0.52823624 0.53463049 0.52451112 0.52920686 0.53046819]\n",
      "test accuracy: 54.08%\n",
      "alpha:  0.003\n",
      "[0.53162637 0.53748661 0.52745781 0.53152912 0.53386347]\n",
      "test accuracy: 54.28%\n",
      "alpha:  0.004\n",
      "[0.53394594 0.5394502  0.52870792 0.53313683 0.53672266]\n",
      "test accuracy: 54.55%\n",
      "alpha:  0.005\n",
      "[0.53599786 0.54096751 0.53049379 0.5350125  0.5384203 ]\n",
      "test accuracy: 54.69%\n",
      "alpha:  0.006\n",
      "[0.53778214 0.54221707 0.53236896 0.53644159 0.54110079]\n",
      "test accuracy: 54.78%\n",
      "alpha:  0.007\n",
      "[0.53840664 0.54302035 0.53352978 0.5375134  0.54261973]\n",
      "test accuracy: 54.89%\n",
      "alpha:  0.008\n",
      "[0.53965563 0.54462692 0.53442272 0.53778135 0.54395997]\n",
      "test accuracy: 55.00%\n",
      "alpha:  0.009000000000000001\n",
      "[0.54054777 0.54551946 0.53513707 0.53849589 0.54547891]\n",
      "test accuracy: 55.15%\n",
      "alpha:  0.01\n",
      "[0.54161834 0.546412   0.53629788 0.53974634 0.54610436]\n",
      "test accuracy: 55.21%\n"
     ]
    }
   ],
   "source": [
    "###MultinomialNB\n",
    "from sklearn.naive_bayes import MultinomialNB\n",
    "from sklearn.model_selection import cross_val_score\n",
    "for i in range(10):\n",
    "    print(\"alpha: \", 0.001*(i+1))\n",
    "    MNB_clf = MultinomialNB(alpha=.001*(i+1))\n",
    "    MNB_clf.fit(vectors_train_idf, y_train)\n",
    "    scores = cross_val_score(MNB_clf, vectors_train_idf, y_train, cv=5)\n",
    "    print(scores)\n",
    "    y_pred=MNB_clf.predict(vectors_test_idf)\n",
    "    print(\"test accuracy: %0.2f%%\" %((y_pred==y_test).astype(np.int).mean()*100))"
   ]
  },
  {
   "cell_type": "code",
   "execution_count": 9,
   "metadata": {},
   "outputs": [
    {
     "name": "stdout",
     "output_type": "stream",
     "text": [
      "alpha:  0.01\n",
      "[0.54161834 0.546412   0.53629788 0.53974634 0.54610436]\n",
      "test accuracy: 55.21%\n",
      "alpha:  0.02\n",
      "[0.5458114  0.55274902 0.54236985 0.54653448 0.55173338]\n",
      "test accuracy: 55.82%\n",
      "alpha:  0.03\n",
      "[0.54973682 0.55614066 0.54710242 0.55234012 0.55673695]\n",
      "test accuracy: 56.29%\n",
      "alpha:  0.04\n",
      "[0.55259167 0.5581935  0.54960264 0.55537692 0.55888134]\n",
      "test accuracy: 56.49%\n",
      "alpha:  0.05\n",
      "[0.5547328  0.56015709 0.55335298 0.55814577 0.56147248]\n",
      "test accuracy: 56.60%\n",
      "alpha:  0.06\n",
      "[0.55589259 0.56087112 0.55576391 0.55993212 0.56129378]\n",
      "test accuracy: 56.61%\n",
      "alpha:  0.07\n",
      "[0.55633866 0.56203142 0.55647826 0.56037871 0.56236598]\n",
      "test accuracy: 56.69%\n",
      "alpha:  0.08\n",
      "[0.55642787 0.56337022 0.55647826 0.56064666 0.56308077]\n",
      "test accuracy: 56.71%\n",
      "alpha:  0.09\n",
      "[0.55687394 0.56435202 0.55754978 0.56171847 0.56281272]\n",
      "test accuracy: 56.83%\n",
      "alpha:  0.1\n",
      "[0.55839058 0.56435202 0.55808554 0.56180779 0.56379557]\n",
      "test accuracy: 56.94%\n"
     ]
    }
   ],
   "source": [
    "###MultinomialNB\n",
    "from sklearn.naive_bayes import MultinomialNB\n",
    "from sklearn.model_selection import cross_val_score\n",
    "for i in range(10):\n",
    "    print(\"alpha: \", 0.01*(i+1))\n",
    "    MNB_clf = MultinomialNB(alpha=.01*(i+1))\n",
    "    MNB_clf.fit(vectors_train_idf, y_train)\n",
    "    scores = cross_val_score(MNB_clf, vectors_train_idf, y_train, cv=5)\n",
    "    print(scores)\n",
    "    y_pred=MNB_clf.predict(vectors_test_idf)\n",
    "    print(\"test accuracy: %0.2f%%\" %((y_pred==y_test).astype(np.int).mean()*100))"
   ]
  },
  {
   "cell_type": "code",
   "execution_count": 10,
   "metadata": {},
   "outputs": [
    {
     "name": "stdout",
     "output_type": "stream",
     "text": [
      "alpha:  0.1\n",
      "[0.55839058 0.56435202 0.55808554 0.56180779 0.56379557]\n",
      "test accuracy: 56.94%\n",
      "alpha:  0.2\n",
      "[0.55955036 0.56569082 0.55996071 0.56162915 0.56191923]\n",
      "test accuracy: 57.30%\n",
      "alpha:  0.30000000000000004\n",
      "[0.55705237 0.56426276 0.55826413 0.55939621 0.56165118]\n",
      "test accuracy: 57.03%\n",
      "alpha:  0.4\n",
      "[0.55526809 0.56274545 0.55665684 0.55707395 0.55977484]\n",
      "test accuracy: 56.79%\n",
      "alpha:  0.5\n",
      "[0.55428673 0.55917529 0.55460309 0.5532333  0.55798785]\n",
      "test accuracy: 56.56%\n",
      "alpha:  0.6000000000000001\n",
      "[0.55178874 0.55730096 0.5515671  0.5522508  0.55691565]\n",
      "test accuracy: 56.26%\n",
      "alpha:  0.7000000000000001\n",
      "[0.54929075 0.5558729  0.54915617 0.55055377 0.55343102]\n",
      "test accuracy: 56.04%\n",
      "alpha:  0.8\n",
      "[0.54679276 0.55301678 0.54728101 0.54778492 0.55030379]\n",
      "test accuracy: 55.84%\n",
      "alpha:  0.9\n",
      "[0.54527612 0.5512317  0.54531655 0.54537335 0.5481594 ]\n",
      "test accuracy: 55.68%\n",
      "alpha:  1.0\n",
      "[0.54358105 0.54953588 0.54353067 0.54385495 0.54619371]\n",
      "test accuracy: 55.40%\n"
     ]
    }
   ],
   "source": [
    "###MultinomialNB\n",
    "from sklearn.naive_bayes import MultinomialNB\n",
    "from sklearn.model_selection import cross_val_score\n",
    "for i in range(10):\n",
    "    print(\"alpha: \", 0.1*(i+1))\n",
    "    MNB_clf = MultinomialNB(alpha=.1*(i+1))\n",
    "    MNB_clf.fit(vectors_train_idf, y_train)\n",
    "    scores = cross_val_score(MNB_clf, vectors_train_idf, y_train, cv=5)\n",
    "    print(scores)\n",
    "    y_pred=MNB_clf.predict(vectors_test_idf)\n",
    "    print(\"test accuracy: %0.2f%%\" %((y_pred==y_test).astype(np.int).mean()*100))"
   ]
  },
  {
   "cell_type": "code",
   "execution_count": 11,
   "metadata": {},
   "outputs": [
    {
     "name": "stdout",
     "output_type": "stream",
     "text": [
      "alpha:  1\n",
      "[0.54358105 0.54953588 0.54353067 0.54385495 0.54619371]\n",
      "test accuracy: 55.40%\n",
      "alpha:  2\n",
      "[0.52698724 0.53007854 0.52406465 0.52777778 0.53145104]\n",
      "test accuracy: 53.78%\n",
      "alpha:  3\n",
      "[0.51512178 0.51802928 0.51299223 0.51607717 0.5194782 ]\n",
      "test accuracy: 52.48%\n",
      "alpha:  4\n",
      "[0.50646802 0.50678329 0.50325922 0.50598428 0.5086669 ]\n",
      "test accuracy: 51.58%\n",
      "alpha:  5\n",
      "[0.49817111 0.5011603  0.49665149 0.49866024 0.50062545]\n",
      "test accuracy: 50.89%\n",
      "alpha:  6\n",
      "[0.49040949 0.49518029 0.48977587 0.49267596 0.49410293]\n",
      "test accuracy: 50.19%\n",
      "alpha:  7\n",
      "[0.48425372 0.48884327 0.48290026 0.48642372 0.48820586]\n",
      "test accuracy: 49.61%\n",
      "alpha:  8\n",
      "[0.47934695 0.48339879 0.4780784  0.48088603 0.48195139]\n",
      "test accuracy: 49.13%\n",
      "alpha:  9\n",
      "[0.47444018 0.47831132 0.47432807 0.47597356 0.47569693]\n",
      "test accuracy: 48.52%\n",
      "alpha:  10\n",
      "[0.46899813 0.47313459 0.47084561 0.47115041 0.4713188 ]\n",
      "test accuracy: 48.17%\n"
     ]
    }
   ],
   "source": [
    "###MultinomialNB\n",
    "from sklearn.naive_bayes import MultinomialNB\n",
    "from sklearn.model_selection import cross_val_score\n",
    "for i in range(10):\n",
    "    print(\"alpha: \", 1*(i+1))\n",
    "    MNB_clf = MultinomialNB(alpha=1*(i+1))\n",
    "    MNB_clf.fit(vectors_train_idf, y_train)\n",
    "    scores = cross_val_score(MNB_clf, vectors_train_idf, y_train, cv=5)\n",
    "    print(scores)\n",
    "    y_pred=MNB_clf.predict(vectors_test_idf)\n",
    "    print(\"test accuracy: %0.2f%%\" %((y_pred==y_test).astype(np.int).mean()*100))"
   ]
  },
  {
   "cell_type": "code",
   "execution_count": 12,
   "metadata": {
    "scrolled": true
   },
   "outputs": [
    {
     "name": "stdout",
     "output_type": "stream",
     "text": [
      "alpha:  0.1\n",
      "[0.55839058 0.56435202 0.55808554 0.56180779 0.56379557]\n",
      "test accuracy: 56.94%\n",
      "alpha:  0.11\n",
      "[0.55812294 0.56461978 0.55817484 0.56011075 0.56361687]\n",
      "test accuracy: 57.03%\n",
      "alpha:  0.12000000000000001\n",
      "[0.55785529 0.56461978 0.55772837 0.56118257 0.56317012]\n",
      "test accuracy: 57.04%\n",
      "alpha:  0.13\n",
      "[0.55821215 0.5651553  0.55817484 0.56189711 0.56361687]\n",
      "test accuracy: 57.06%\n",
      "alpha:  0.14\n",
      "[0.55901508 0.56417351 0.5587106  0.56207574 0.56334882]\n",
      "test accuracy: 57.04%\n",
      "alpha:  0.15000000000000002\n",
      "[0.55919351 0.56408426 0.55844272 0.56305824 0.56317012]\n",
      "test accuracy: 57.06%\n",
      "alpha:  0.16\n",
      "[0.55919351 0.56417351 0.55862131 0.56198642 0.56263402]\n",
      "test accuracy: 57.12%\n",
      "alpha:  0.17\n",
      "[0.55937193 0.56444127 0.55879989 0.56189711 0.56325947]\n",
      "test accuracy: 57.23%\n",
      "alpha:  0.18\n",
      "[0.55919351 0.56461978 0.55942495 0.56153984 0.56334882]\n",
      "test accuracy: 57.28%\n",
      "alpha:  0.19\n",
      "[0.55963958 0.56524456 0.55951424 0.56189711 0.56236598]\n",
      "test accuracy: 57.31%\n",
      "alpha:  0.2\n",
      "[0.55955036 0.56569082 0.55996071 0.56162915 0.56191923]\n",
      "test accuracy: 57.30%\n",
      "alpha:  0.21000000000000002\n",
      "[0.56017486 0.56533381 0.55942495 0.56171847 0.56254467]\n",
      "test accuracy: 57.26%\n",
      "alpha:  0.22\n",
      "[0.56071014 0.56569082 0.55933565 0.56127188 0.56236598]\n",
      "test accuracy: 57.24%\n",
      "alpha:  0.23\n",
      "[0.559818   0.56595859 0.55978212 0.56091461 0.56254467]\n",
      "test accuracy: 57.24%\n",
      "alpha:  0.24000000000000002\n",
      "[0.55972879 0.56506605 0.55978212 0.56082529 0.56236598]\n",
      "test accuracy: 57.23%\n",
      "alpha:  0.25\n",
      "[0.55910429 0.56470903 0.55933565 0.56073598 0.56218728]\n",
      "test accuracy: 57.20%\n",
      "alpha:  0.26\n",
      "[0.55874744 0.56453052 0.55862131 0.56100393 0.56138313]\n",
      "test accuracy: 57.16%\n",
      "alpha:  0.27\n",
      "[0.55874744 0.56426276 0.55888919 0.56073598 0.56138313]\n",
      "test accuracy: 57.18%\n",
      "alpha:  0.28\n",
      "[0.55812294 0.56408426 0.55790696 0.56020007 0.56174053]\n",
      "test accuracy: 57.12%\n",
      "alpha:  0.29000000000000004\n",
      "[0.55776608 0.56408426 0.55826413 0.55993212 0.56174053]\n",
      "test accuracy: 57.08%\n",
      "alpha:  0.30000000000000004\n",
      "[0.55705237 0.56426276 0.55826413 0.55939621 0.56165118]\n",
      "test accuracy: 57.03%\n",
      "alpha:  0.31\n",
      "[0.55669551 0.56390575 0.55826413 0.55886031 0.56138313]\n",
      "test accuracy: 56.94%\n",
      "alpha:  0.32\n",
      "[0.55687394 0.56408426 0.55835342 0.55868167 0.56129378]\n",
      "test accuracy: 56.96%\n",
      "alpha:  0.33\n",
      "[0.5566063  0.56354873 0.55826413 0.5593069  0.56084703]\n",
      "test accuracy: 56.90%\n",
      "alpha:  0.33999999999999997\n",
      "[0.55616023 0.56363799 0.55817484 0.55868167 0.56075768]\n",
      "test accuracy: 56.91%\n",
      "alpha:  0.35\n",
      "[0.55589259 0.56372724 0.55737119 0.5583244  0.56066833]\n",
      "test accuracy: 56.89%\n",
      "alpha:  0.36\n",
      "[0.55607101 0.56363799 0.55737119 0.55805645 0.56084703]\n",
      "test accuracy: 56.85%\n",
      "alpha:  0.37\n",
      "[0.55500045 0.56354873 0.55719261 0.55769918 0.56066833]\n",
      "test accuracy: 56.81%\n",
      "alpha:  0.38\n",
      "[0.55500045 0.56363799 0.5572819  0.5577885  0.56048964]\n",
      "test accuracy: 56.79%\n",
      "alpha:  0.39\n",
      "[0.55517887 0.56345948 0.55647826 0.55769918 0.55986419]\n",
      "test accuracy: 56.81%\n"
     ]
    }
   ],
   "source": [
    "###MultinomialNB\n",
    "from sklearn.naive_bayes import MultinomialNB\n",
    "from sklearn.model_selection import cross_val_score\n",
    "for i in range(30):\n",
    "    print(\"alpha: \", 0.1+0.01*(i))\n",
    "    MNB_clf = MultinomialNB(alpha=0.1+.01*(i))\n",
    "    MNB_clf.fit(vectors_train_idf, y_train)\n",
    "    scores = cross_val_score(MNB_clf, vectors_train_idf, y_train, cv=5)\n",
    "    print(scores)\n",
    "    y_pred=MNB_clf.predict(vectors_test_idf)\n",
    "    print(\"test accuracy: %0.2f%%\" %((y_pred==y_test).astype(np.int).mean()*100))"
   ]
  },
  {
   "cell_type": "code",
   "execution_count": 13,
   "metadata": {},
   "outputs": [
    {
     "data": {
      "text/plain": [
       "LogisticRegression(C=1.0, class_weight=None, dual=False, fit_intercept=True,\n",
       "                   intercept_scaling=1, l1_ratio=None, max_iter=100,\n",
       "                   multi_class='warn', n_jobs=None, penalty='l2',\n",
       "                   random_state=None, solver='warn', tol=0.0001, verbose=0,\n",
       "                   warm_start=False)"
      ]
     },
     "execution_count": 13,
     "metadata": {},
     "output_type": "execute_result"
    }
   ],
   "source": [
    "from sklearn.linear_model import LogisticRegression\n",
    "tf_idf_vectorizer1=TfidfVectorizer(sublinear_tf='False')\n",
    "vectors_train_idf_1 = tf_idf_vectorizer1.fit_transform(X_train)\n",
    "vectors_test_idf_1 = tf_idf_vectorizer1.transform(X_test)\n",
    "for i in range(20):\n",
    "    c=0.2*i+0.1\n",
    "    clf = LogisticRegression(C=c)\n",
    "    print('C=',c)\n",
    "    scores = cross_val_score(clf, vectors_train_idf_1, y_train, cv=5, scoring='accuracy')\n",
    "    print(\"Accuracy: %0.5f (+/- %0.5f)\" % (scores.mean(), scores.std()))"
   ]
  },
  {
   "cell_type": "code",
   "execution_count": 16,
   "metadata": {},
   "outputs": [
    {
     "name": "stdout",
     "output_type": "stream",
     "text": [
      "0.1\n",
      "Accuracy: 0.19758 (+/- 0.02822)\n",
      "0.2\n",
      "Accuracy: 0.05516 (+/- 0.00378)\n",
      "0.30000000000000004\n",
      "Accuracy: 0.05157 (+/- 0.00164)\n",
      "0.4\n",
      "Accuracy: 0.05252 (+/- 0.00354)\n",
      "0.5\n",
      "Accuracy: 0.06100 (+/- 0.01062)\n",
      "0.6000000000000001\n",
      "Accuracy: 0.05243 (+/- 0.00378)\n",
      "0.7000000000000001\n",
      "Accuracy: 0.05007 (+/- 0.00023)\n",
      "0.8\n",
      "Accuracy: 0.05344 (+/- 0.00504)\n",
      "0.9\n",
      "Accuracy: 0.05196 (+/- 0.00272)\n",
      "1.0\n",
      "Accuracy: 0.05118 (+/- 0.00122)\n"
     ]
    }
   ],
   "source": [
    "from sklearn.linear_model import SGDClassifier\n",
    "tf_idf_vectorizer1=TfidfVectorizer(sublinear_tf='False')\n",
    "vectors_train_idf_1 = tf_idf_vectorizer1.fit_transform(X_train)\n",
    "vectors_test_idf_1 = tf_idf_vectorizer1.transform(X_test)\n",
    "for i in range(10):\n",
    "    a=0.1*(i+1)\n",
    "    print(a)\n",
    "    lsvm = SGDClassifier(average=True, alpha=a, max_iter=20, tol=None)\n",
    "    scores = cross_val_score(lsvm, vectors_train_idf_1, y_train, cv=5, scoring='accuracy')\n",
    "    print(\"Accuracy: %0.5f (+/- %0.5f)\" % (scores.mean(), scores.std()))"
   ]
  },
  {
   "cell_type": "code",
   "execution_count": 17,
   "metadata": {},
   "outputs": [
    {
     "name": "stdout",
     "output_type": "stream",
     "text": [
      "0.01\n",
      "Accuracy: 0.54147 (+/- 0.00238)\n",
      "0.02\n",
      "Accuracy: 0.53955 (+/- 0.00343)\n",
      "0.03\n",
      "Accuracy: 0.53395 (+/- 0.00234)\n",
      "0.04\n",
      "Accuracy: 0.50420 (+/- 0.00246)\n",
      "0.05\n",
      "Accuracy: 0.45090 (+/- 0.01258)\n",
      "0.06\n",
      "Accuracy: 0.36738 (+/- 0.01842)\n",
      "0.07\n",
      "Accuracy: 0.33773 (+/- 0.03331)\n",
      "0.08\n",
      "Accuracy: 0.29851 (+/- 0.01611)\n",
      "0.09\n",
      "Accuracy: 0.25182 (+/- 0.00712)\n",
      "0.1\n",
      "Accuracy: 0.18725 (+/- 0.02977)\n"
     ]
    }
   ],
   "source": [
    "from sklearn.linear_model import SGDClassifier\n",
    "for i in range(10):\n",
    "    a=0.01*(i+1)\n",
    "    print(a)\n",
    "    lsvm = SGDClassifier(average=True, alpha=a, max_iter=20, tol=None)\n",
    "    scores = cross_val_score(lsvm, vectors_train_idf_1, y_train, cv=5, scoring='accuracy')\n",
    "    print(\"Accuracy: %0.5f (+/- %0.5f)\" % (scores.mean(), scores.std()))"
   ]
  },
  {
   "cell_type": "code",
   "execution_count": 18,
   "metadata": {},
   "outputs": [
    {
     "name": "stdout",
     "output_type": "stream",
     "text": [
      "0.001\n",
      "Accuracy: 0.54157 (+/- 0.00301)\n",
      "0.002\n",
      "Accuracy: 0.54163 (+/- 0.00261)\n",
      "0.003\n",
      "Accuracy: 0.54107 (+/- 0.00262)\n",
      "0.004\n",
      "Accuracy: 0.54102 (+/- 0.00280)\n",
      "0.005\n",
      "Accuracy: 0.54111 (+/- 0.00272)\n",
      "0.006\n",
      "Accuracy: 0.54139 (+/- 0.00190)\n",
      "0.007\n",
      "Accuracy: 0.54100 (+/- 0.00295)\n",
      "0.008\n",
      "Accuracy: 0.54154 (+/- 0.00290)\n",
      "0.009000000000000001\n",
      "Accuracy: 0.54182 (+/- 0.00206)\n",
      "0.01\n",
      "Accuracy: 0.54075 (+/- 0.00209)\n"
     ]
    }
   ],
   "source": [
    "from sklearn.linear_model import SGDClassifier\n",
    "for i in range(10):\n",
    "    a=0.001*(i+1)\n",
    "    print(a)\n",
    "    lsvm = SGDClassifier(average=True, alpha=a, max_iter=20, tol=None)\n",
    "    scores = cross_val_score(lsvm, vectors_train_idf_1, y_train, cv=5, scoring='accuracy')\n",
    "    print(\"Accuracy: %0.5f (+/- %0.5f)\" % (scores.mean(), scores.std()))"
   ]
  },
  {
   "cell_type": "code",
   "execution_count": 19,
   "metadata": {},
   "outputs": [
    {
     "name": "stdout",
     "output_type": "stream",
     "text": [
      "0.0001\n",
      "Accuracy: 0.55291 (+/- 0.00173)\n",
      "0.0002\n",
      "Accuracy: 0.54863 (+/- 0.00187)\n",
      "0.00030000000000000003\n",
      "Accuracy: 0.54689 (+/- 0.00251)\n",
      "0.0004\n",
      "Accuracy: 0.54609 (+/- 0.00308)\n",
      "0.0005\n",
      "Accuracy: 0.54575 (+/- 0.00251)\n",
      "0.0006000000000000001\n",
      "Accuracy: 0.54400 (+/- 0.00231)\n",
      "0.0007\n",
      "Accuracy: 0.54313 (+/- 0.00356)\n",
      "0.0008\n",
      "Accuracy: 0.54321 (+/- 0.00353)\n",
      "0.0009000000000000001\n",
      "Accuracy: 0.54236 (+/- 0.00251)\n",
      "0.001\n",
      "Accuracy: 0.54184 (+/- 0.00265)\n"
     ]
    }
   ],
   "source": [
    "from sklearn.linear_model import SGDClassifier\n",
    "for i in range(10):\n",
    "    a=0.0001*(i+1)\n",
    "    print(a)\n",
    "    lsvm = SGDClassifier(average=True, alpha=a, max_iter=20, tol=None)\n",
    "    scores = cross_val_score(lsvm, vectors_train_idf_1, y_train, cv=5, scoring='accuracy')\n",
    "    print(\"Accuracy: %0.5f (+/- %0.5f)\" % (scores.mean(), scores.std()))"
   ]
  },
  {
   "cell_type": "code",
   "execution_count": 20,
   "metadata": {},
   "outputs": [
    {
     "name": "stdout",
     "output_type": "stream",
     "text": [
      "1e-05\n",
      "Accuracy: 0.55263 (+/- 0.00448)\n",
      "2e-05\n",
      "Accuracy: 0.55807 (+/- 0.00293)\n",
      "3.0000000000000004e-05\n",
      "Accuracy: 0.55773 (+/- 0.00155)\n",
      "4e-05\n",
      "Accuracy: 0.55723 (+/- 0.00177)\n",
      "5e-05\n",
      "Accuracy: 0.55612 (+/- 0.00212)\n",
      "6.000000000000001e-05\n",
      "Accuracy: 0.55550 (+/- 0.00240)\n",
      "7.000000000000001e-05\n",
      "Accuracy: 0.55493 (+/- 0.00168)\n",
      "8e-05\n",
      "Accuracy: 0.55364 (+/- 0.00242)\n",
      "9e-05\n",
      "Accuracy: 0.55355 (+/- 0.00250)\n",
      "0.0001\n",
      "Accuracy: 0.55345 (+/- 0.00219)\n"
     ]
    }
   ],
   "source": [
    "from sklearn.linear_model import SGDClassifier\n",
    "for i in range(10):\n",
    "    a=0.00001*(i+1)\n",
    "    print(a)\n",
    "    lsvm = SGDClassifier(average=True, alpha=a, max_iter=20, tol=None)\n",
    "    scores = cross_val_score(lsvm, vectors_train_idf_1, y_train, cv=5, scoring='accuracy')\n",
    "    print(\"Accuracy: %0.5f (+/- %0.5f)\" % (scores.mean(), scores.std()))"
   ]
  },
  {
   "cell_type": "code",
   "execution_count": 21,
   "metadata": {},
   "outputs": [
    {
     "name": "stdout",
     "output_type": "stream",
     "text": [
      "1e-06\n",
      "Accuracy: 0.51446 (+/- 0.00275)\n",
      "2e-06\n",
      "Accuracy: 0.52445 (+/- 0.00441)\n",
      "3e-06\n",
      "Accuracy: 0.52957 (+/- 0.00350)\n",
      "4e-06\n",
      "Accuracy: 0.53495 (+/- 0.00319)\n",
      "4.9999999999999996e-06\n",
      "Accuracy: 0.53932 (+/- 0.00296)\n",
      "6e-06\n",
      "Accuracy: 0.54297 (+/- 0.00457)\n",
      "7e-06\n",
      "Accuracy: 0.54620 (+/- 0.00520)\n",
      "8e-06\n",
      "Accuracy: 0.54872 (+/- 0.00402)\n",
      "9e-06\n",
      "Accuracy: 0.55084 (+/- 0.00378)\n",
      "9.999999999999999e-06\n",
      "Accuracy: 0.55263 (+/- 0.00373)\n"
     ]
    }
   ],
   "source": [
    "from sklearn.linear_model import SGDClassifier\n",
    "for i in range(10):\n",
    "    a=0.000001*(i+1)\n",
    "    print(a)\n",
    "    lsvm = SGDClassifier(average=True, alpha=a, max_iter=20, tol=None)\n",
    "    scores = cross_val_score(lsvm, vectors_train_idf_1, y_train, cv=5, scoring='accuracy')\n",
    "    print(\"Accuracy: %0.5f (+/- %0.5f)\" % (scores.mean(), scores.std()))"
   ]
  },
  {
   "cell_type": "code",
   "execution_count": null,
   "metadata": {},
   "outputs": [],
   "source": [
    "from sklearn.svm import LinearSVC\n",
    "for i in range(10):\n",
    "    a=0.1*(i+1)\n",
    "    print(a)\n",
    "    clf = LinearSVC(C=a)\n",
    "    scores = cross_val_score(clf, vectors_train_idf_1, y_train, cv=5, scoring='accuracy')\n",
    "    print(\"Accuracy: %0.5f (+/- %0.5f)\" % (scores.mean(), scores.std()))"
   ]
  }
 ],
 "metadata": {
  "kernelspec": {
   "display_name": "Python 3",
   "language": "python",
   "name": "python3"
  },
  "language_info": {
   "codemirror_mode": {
    "name": "ipython",
    "version": 3
   },
   "file_extension": ".py",
   "mimetype": "text/x-python",
   "name": "python",
   "nbconvert_exporter": "python",
   "pygments_lexer": "ipython3",
   "version": "3.7.3"
  }
 },
 "nbformat": 4,
 "nbformat_minor": 2
}
